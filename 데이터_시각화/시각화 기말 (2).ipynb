{
 "cells": [
  {
   "cell_type": "markdown",
   "id": "fa4e1ca4-cfce-4744-8af6-0c30181f15c8",
   "metadata": {},
   "source": [
    "### 2023년_전국버스정류장 위치정보_데이터 전처리 및 시각화 ### \n",
    "\n",
    "\n",
    "\n"
   ]
  },
  {
   "cell_type": "code",
   "execution_count": 47,
   "id": "d3bc230b-6a3c-43d5-a012-0fa9a50e144a",
   "metadata": {},
   "outputs": [
    {
     "data": {
      "text/html": [
       "<div>\n",
       "<style scoped>\n",
       "    .dataframe tbody tr th:only-of-type {\n",
       "        vertical-align: middle;\n",
       "    }\n",
       "\n",
       "    .dataframe tbody tr th {\n",
       "        vertical-align: top;\n",
       "    }\n",
       "\n",
       "    .dataframe thead th {\n",
       "        text-align: right;\n",
       "    }\n",
       "</style>\n",
       "<table border=\"1\" class=\"dataframe\">\n",
       "  <thead>\n",
       "    <tr style=\"text-align: right;\">\n",
       "      <th></th>\n",
       "      <th>정류장번호</th>\n",
       "      <th>정류장명</th>\n",
       "      <th>위도</th>\n",
       "      <th>경도</th>\n",
       "      <th>정보수집일</th>\n",
       "      <th>모바일단축번호</th>\n",
       "      <th>도시코드</th>\n",
       "      <th>도시명</th>\n",
       "      <th>관리도시명</th>\n",
       "    </tr>\n",
       "  </thead>\n",
       "  <tbody>\n",
       "    <tr>\n",
       "      <th>0</th>\n",
       "      <td>ADB354000076</td>\n",
       "      <td>신덕1리</td>\n",
       "      <td>36.524325</td>\n",
       "      <td>128.830926</td>\n",
       "      <td>2023-10-16</td>\n",
       "      <td>540076.0</td>\n",
       "      <td>37040</td>\n",
       "      <td>경상북도 안동시</td>\n",
       "      <td>안동</td>\n",
       "    </tr>\n",
       "    <tr>\n",
       "      <th>1</th>\n",
       "      <td>ADB354000077</td>\n",
       "      <td>나천</td>\n",
       "      <td>36.484444</td>\n",
       "      <td>128.876390</td>\n",
       "      <td>2023-10-16</td>\n",
       "      <td>540077.0</td>\n",
       "      <td>37040</td>\n",
       "      <td>경상북도 안동시</td>\n",
       "      <td>안동</td>\n",
       "    </tr>\n",
       "    <tr>\n",
       "      <th>2</th>\n",
       "      <td>ADB354000078</td>\n",
       "      <td>골삽실</td>\n",
       "      <td>36.462248</td>\n",
       "      <td>128.887606</td>\n",
       "      <td>2023-10-16</td>\n",
       "      <td>540078.0</td>\n",
       "      <td>37040</td>\n",
       "      <td>경상북도 안동시</td>\n",
       "      <td>안동</td>\n",
       "    </tr>\n",
       "    <tr>\n",
       "      <th>3</th>\n",
       "      <td>ADB354000079</td>\n",
       "      <td>금곡(길안)</td>\n",
       "      <td>36.394360</td>\n",
       "      <td>128.933281</td>\n",
       "      <td>2023-10-16</td>\n",
       "      <td>540079.0</td>\n",
       "      <td>37040</td>\n",
       "      <td>경상북도 안동시</td>\n",
       "      <td>안동</td>\n",
       "    </tr>\n",
       "    <tr>\n",
       "      <th>4</th>\n",
       "      <td>ADB354000080</td>\n",
       "      <td>대사.토일</td>\n",
       "      <td>36.368580</td>\n",
       "      <td>128.940353</td>\n",
       "      <td>2023-10-16</td>\n",
       "      <td>540080.0</td>\n",
       "      <td>37040</td>\n",
       "      <td>경상북도 안동시</td>\n",
       "      <td>안동</td>\n",
       "    </tr>\n",
       "  </tbody>\n",
       "</table>\n",
       "</div>"
      ],
      "text/plain": [
       "          정류장번호    정류장명         위도          경도       정보수집일   모바일단축번호   도시코드  \\\n",
       "0  ADB354000076    신덕1리  36.524325  128.830926  2023-10-16  540076.0  37040   \n",
       "1  ADB354000077      나천  36.484444  128.876390  2023-10-16  540077.0  37040   \n",
       "2  ADB354000078     골삽실  36.462248  128.887606  2023-10-16  540078.0  37040   \n",
       "3  ADB354000079  금곡(길안)  36.394360  128.933281  2023-10-16  540079.0  37040   \n",
       "4  ADB354000080   대사.토일  36.368580  128.940353  2023-10-16  540080.0  37040   \n",
       "\n",
       "        도시명 관리도시명  \n",
       "0  경상북도 안동시    안동  \n",
       "1  경상북도 안동시    안동  \n",
       "2  경상북도 안동시    안동  \n",
       "3  경상북도 안동시    안동  \n",
       "4  경상북도 안동시    안동  "
      ]
     },
     "execution_count": 47,
     "metadata": {},
     "output_type": "execute_result"
    }
   ],
   "source": [
    "import pandas as pd\n",
    "\n",
    "bs_location = pd.read_csv(\"C:\\\\Users\\\\SAMSUNG\\\\Downloads\\\\2023년_전국버스정류장 위치정보_데이터.csv\", encoding =\"cp949\")\n",
    "bs_location.head()"
   ]
  },
  {
   "cell_type": "code",
   "execution_count": 48,
   "id": "e6ded162-e667-4c5b-ad63-3f3b74f2985e",
   "metadata": {
    "scrolled": true
   },
   "outputs": [
    {
     "data": {
      "text/html": [
       "<div>\n",
       "<style scoped>\n",
       "    .dataframe tbody tr th:only-of-type {\n",
       "        vertical-align: middle;\n",
       "    }\n",
       "\n",
       "    .dataframe tbody tr th {\n",
       "        vertical-align: top;\n",
       "    }\n",
       "\n",
       "    .dataframe thead th {\n",
       "        text-align: right;\n",
       "    }\n",
       "</style>\n",
       "<table border=\"1\" class=\"dataframe\">\n",
       "  <thead>\n",
       "    <tr style=\"text-align: right;\">\n",
       "      <th></th>\n",
       "      <th>정류장번호</th>\n",
       "      <th>정류장명</th>\n",
       "      <th>위도</th>\n",
       "      <th>경도</th>\n",
       "      <th>정보수집일</th>\n",
       "      <th>모바일단축번호</th>\n",
       "      <th>도시코드</th>\n",
       "      <th>도시명</th>\n",
       "      <th>관리도시명</th>\n",
       "    </tr>\n",
       "  </thead>\n",
       "  <tbody>\n",
       "    <tr>\n",
       "      <th>0</th>\n",
       "      <td>ADB354000076</td>\n",
       "      <td>신덕1리</td>\n",
       "      <td>36.524325</td>\n",
       "      <td>128.830926</td>\n",
       "      <td>2023-10-16</td>\n",
       "      <td>540076.0</td>\n",
       "      <td>37040</td>\n",
       "      <td>경상북도 안동시</td>\n",
       "      <td>안동</td>\n",
       "    </tr>\n",
       "    <tr>\n",
       "      <th>1</th>\n",
       "      <td>ADB354000077</td>\n",
       "      <td>나천</td>\n",
       "      <td>36.484444</td>\n",
       "      <td>128.876390</td>\n",
       "      <td>2023-10-16</td>\n",
       "      <td>540077.0</td>\n",
       "      <td>37040</td>\n",
       "      <td>경상북도 안동시</td>\n",
       "      <td>안동</td>\n",
       "    </tr>\n",
       "    <tr>\n",
       "      <th>2</th>\n",
       "      <td>ADB354000078</td>\n",
       "      <td>골삽실</td>\n",
       "      <td>36.462248</td>\n",
       "      <td>128.887606</td>\n",
       "      <td>2023-10-16</td>\n",
       "      <td>540078.0</td>\n",
       "      <td>37040</td>\n",
       "      <td>경상북도 안동시</td>\n",
       "      <td>안동</td>\n",
       "    </tr>\n",
       "    <tr>\n",
       "      <th>3</th>\n",
       "      <td>ADB354000079</td>\n",
       "      <td>금곡(길안)</td>\n",
       "      <td>36.394360</td>\n",
       "      <td>128.933281</td>\n",
       "      <td>2023-10-16</td>\n",
       "      <td>540079.0</td>\n",
       "      <td>37040</td>\n",
       "      <td>경상북도 안동시</td>\n",
       "      <td>안동</td>\n",
       "    </tr>\n",
       "    <tr>\n",
       "      <th>4</th>\n",
       "      <td>ADB354000080</td>\n",
       "      <td>대사.토일</td>\n",
       "      <td>36.368580</td>\n",
       "      <td>128.940353</td>\n",
       "      <td>2023-10-16</td>\n",
       "      <td>540080.0</td>\n",
       "      <td>37040</td>\n",
       "      <td>경상북도 안동시</td>\n",
       "      <td>안동</td>\n",
       "    </tr>\n",
       "    <tr>\n",
       "      <th>...</th>\n",
       "      <td>...</td>\n",
       "      <td>...</td>\n",
       "      <td>...</td>\n",
       "      <td>...</td>\n",
       "      <td>...</td>\n",
       "      <td>...</td>\n",
       "      <td>...</td>\n",
       "      <td>...</td>\n",
       "      <td>...</td>\n",
       "    </tr>\n",
       "    <tr>\n",
       "      <th>204204</th>\n",
       "      <td>USB196066514</td>\n",
       "      <td>새진흥아파트</td>\n",
       "      <td>35.540264</td>\n",
       "      <td>129.106553</td>\n",
       "      <td>2023-10-16</td>\n",
       "      <td>66514.0</td>\n",
       "      <td>26</td>\n",
       "      <td>울산광역시</td>\n",
       "      <td>울산</td>\n",
       "    </tr>\n",
       "    <tr>\n",
       "      <th>204205</th>\n",
       "      <td>USB196066515</td>\n",
       "      <td>부일맨션</td>\n",
       "      <td>35.539081</td>\n",
       "      <td>129.104984</td>\n",
       "      <td>2023-10-16</td>\n",
       "      <td>66515.0</td>\n",
       "      <td>26</td>\n",
       "      <td>울산광역시</td>\n",
       "      <td>울산</td>\n",
       "    </tr>\n",
       "    <tr>\n",
       "      <th>204206</th>\n",
       "      <td>USB196066516</td>\n",
       "      <td>부일맨션</td>\n",
       "      <td>35.539203</td>\n",
       "      <td>129.104913</td>\n",
       "      <td>2023-10-16</td>\n",
       "      <td>66516.0</td>\n",
       "      <td>26</td>\n",
       "      <td>울산광역시</td>\n",
       "      <td>울산</td>\n",
       "    </tr>\n",
       "    <tr>\n",
       "      <th>204207</th>\n",
       "      <td>USB196066601</td>\n",
       "      <td>석남유치원</td>\n",
       "      <td>35.562269</td>\n",
       "      <td>129.116000</td>\n",
       "      <td>2023-10-16</td>\n",
       "      <td>66601.0</td>\n",
       "      <td>26</td>\n",
       "      <td>울산광역시</td>\n",
       "      <td>울산</td>\n",
       "    </tr>\n",
       "    <tr>\n",
       "      <th>204208</th>\n",
       "      <td>USB196066603</td>\n",
       "      <td>부산은행</td>\n",
       "      <td>35.557706</td>\n",
       "      <td>129.118750</td>\n",
       "      <td>2023-10-16</td>\n",
       "      <td>66603.0</td>\n",
       "      <td>26</td>\n",
       "      <td>울산광역시</td>\n",
       "      <td>울산</td>\n",
       "    </tr>\n",
       "  </tbody>\n",
       "</table>\n",
       "<p>204209 rows × 9 columns</p>\n",
       "</div>"
      ],
      "text/plain": [
       "               정류장번호    정류장명         위도          경도       정보수집일   모바일단축번호  \\\n",
       "0       ADB354000076    신덕1리  36.524325  128.830926  2023-10-16  540076.0   \n",
       "1       ADB354000077      나천  36.484444  128.876390  2023-10-16  540077.0   \n",
       "2       ADB354000078     골삽실  36.462248  128.887606  2023-10-16  540078.0   \n",
       "3       ADB354000079  금곡(길안)  36.394360  128.933281  2023-10-16  540079.0   \n",
       "4       ADB354000080   대사.토일  36.368580  128.940353  2023-10-16  540080.0   \n",
       "...              ...     ...        ...         ...         ...       ...   \n",
       "204204  USB196066514  새진흥아파트  35.540264  129.106553  2023-10-16   66514.0   \n",
       "204205  USB196066515    부일맨션  35.539081  129.104984  2023-10-16   66515.0   \n",
       "204206  USB196066516    부일맨션  35.539203  129.104913  2023-10-16   66516.0   \n",
       "204207  USB196066601   석남유치원  35.562269  129.116000  2023-10-16   66601.0   \n",
       "204208  USB196066603    부산은행  35.557706  129.118750  2023-10-16   66603.0   \n",
       "\n",
       "         도시코드       도시명 관리도시명  \n",
       "0       37040  경상북도 안동시    안동  \n",
       "1       37040  경상북도 안동시    안동  \n",
       "2       37040  경상북도 안동시    안동  \n",
       "3       37040  경상북도 안동시    안동  \n",
       "4       37040  경상북도 안동시    안동  \n",
       "...       ...       ...   ...  \n",
       "204204     26     울산광역시    울산  \n",
       "204205     26     울산광역시    울산  \n",
       "204206     26     울산광역시    울산  \n",
       "204207     26     울산광역시    울산  \n",
       "204208     26     울산광역시    울산  \n",
       "\n",
       "[204209 rows x 9 columns]"
      ]
     },
     "execution_count": 48,
     "metadata": {},
     "output_type": "execute_result"
    }
   ],
   "source": [
    "bs_location"
   ]
  },
  {
   "cell_type": "code",
   "execution_count": 49,
   "id": "745123ad-dbb4-4905-9280-ad7a70c791f7",
   "metadata": {
    "scrolled": true
   },
   "outputs": [
    {
     "name": "stdout",
     "output_type": "stream",
     "text": [
      "<class 'pandas.core.frame.DataFrame'>\n",
      "RangeIndex: 204209 entries, 0 to 204208\n",
      "Data columns (total 9 columns):\n",
      " #   Column   Non-Null Count   Dtype  \n",
      "---  ------   --------------   -----  \n",
      " 0   정류장번호    204209 non-null  object \n",
      " 1   정류장명     204207 non-null  object \n",
      " 2   위도       204207 non-null  float64\n",
      " 3   경도       204207 non-null  float64\n",
      " 4   정보수집일    204209 non-null  object \n",
      " 5   모바일단축번호  187350 non-null  float64\n",
      " 6   도시코드     204209 non-null  int64  \n",
      " 7   도시명      204209 non-null  object \n",
      " 8   관리도시명    204209 non-null  object \n",
      "dtypes: float64(3), int64(1), object(5)\n",
      "memory usage: 14.0+ MB\n"
     ]
    }
   ],
   "source": [
    "bs_location.info()\n"
   ]
  },
  {
   "cell_type": "code",
   "execution_count": 50,
   "id": "178821e5-8330-4cc4-8ac8-052c4be92620",
   "metadata": {},
   "outputs": [
    {
     "data": {
      "text/plain": [
       "정류장번호          0\n",
       "정류장명           2\n",
       "위도             2\n",
       "경도             2\n",
       "정보수집일          0\n",
       "모바일단축번호    16859\n",
       "도시코드           0\n",
       "도시명            0\n",
       "관리도시명          0\n",
       "dtype: int64"
      ]
     },
     "execution_count": 50,
     "metadata": {},
     "output_type": "execute_result"
    }
   ],
   "source": [
    "bs_location.isna().sum()"
   ]
  },
  {
   "cell_type": "code",
   "execution_count": 51,
   "id": "7bce039f-14c6-4c50-a0cc-3fa21332d798",
   "metadata": {},
   "outputs": [],
   "source": [
    "#표본 수에 비해 결측값이 매우 적음 -> 결측값을 제거하여 처리 \n",
    "\n",
    "bs_location=bs_location.dropna()"
   ]
  },
  {
   "cell_type": "code",
   "execution_count": 52,
   "id": "d54adc16-abc3-44a0-afd2-34db0ca431d4",
   "metadata": {},
   "outputs": [
    {
     "data": {
      "text/plain": [
       "정류장번호      0\n",
       "정류장명       0\n",
       "위도         0\n",
       "경도         0\n",
       "정보수집일      0\n",
       "모바일단축번호    0\n",
       "도시코드       0\n",
       "도시명        0\n",
       "관리도시명      0\n",
       "dtype: int64"
      ]
     },
     "execution_count": 52,
     "metadata": {},
     "output_type": "execute_result"
    }
   ],
   "source": [
    "bs_location.isna().sum()"
   ]
  },
  {
   "cell_type": "code",
   "execution_count": 53,
   "id": "2c576af5-c37d-416d-8199-3f356284b286",
   "metadata": {},
   "outputs": [
    {
     "name": "stdout",
     "output_type": "stream",
     "text": [
      "도시명\n",
      "강원특별자치도 강릉시      40\n",
      "강원특별자치도 동해시     393\n",
      "강원특별자치도 삼척시     147\n",
      "강원특별자치도 속초시     215\n",
      "강원특별자치도 양구군     216\n",
      "               ... \n",
      "충청북도 증평군          4\n",
      "충청북도 진천군        659\n",
      "충청북도 청원군         28\n",
      "충청북도 청주시       3225\n",
      "충청북도 충주시       1993\n",
      "Length: 158, dtype: int64\n"
     ]
    }
   ],
   "source": [
    "city_counts = bs_location.groupby('도시명').size()\n",
    "print(city_counts)"
   ]
  },
  {
   "cell_type": "code",
   "execution_count": 54,
   "id": "82b99c19-8e6b-4a2b-a56f-e48d1cf69098",
   "metadata": {},
   "outputs": [
    {
     "name": "stdout",
     "output_type": "stream",
     "text": [
      "             도시명     값\n",
      "0    강원특별자치도 강릉시    40\n",
      "1    강원특별자치도 동해시   393\n",
      "2    강원특별자치도 삼척시   147\n",
      "3    강원특별자치도 속초시   215\n",
      "4    강원특별자치도 양구군   216\n",
      "..           ...   ...\n",
      "153     충청북도 증평군     4\n",
      "154     충청북도 진천군   659\n",
      "155     충청북도 청원군    28\n",
      "156     충청북도 청주시  3225\n",
      "157     충청북도 충주시  1993\n",
      "\n",
      "[158 rows x 2 columns]\n"
     ]
    }
   ],
   "source": [
    "df_city_counts = city_counts.reset_index()\n",
    "df_city_counts.columns = ['도시명', '값']\n",
    "print(df_city_counts)\n"
   ]
  },
  {
   "cell_type": "code",
   "execution_count": 55,
   "id": "c6ce9672-16e9-4fb6-bdd3-e8473b7ceeb5",
   "metadata": {},
   "outputs": [
    {
     "data": {
      "text/html": [
       "<div>\n",
       "<style scoped>\n",
       "    .dataframe tbody tr th:only-of-type {\n",
       "        vertical-align: middle;\n",
       "    }\n",
       "\n",
       "    .dataframe tbody tr th {\n",
       "        vertical-align: top;\n",
       "    }\n",
       "\n",
       "    .dataframe thead th {\n",
       "        text-align: right;\n",
       "    }\n",
       "</style>\n",
       "<table border=\"1\" class=\"dataframe\">\n",
       "  <thead>\n",
       "    <tr style=\"text-align: right;\">\n",
       "      <th></th>\n",
       "      <th>값</th>\n",
       "    </tr>\n",
       "  </thead>\n",
       "  <tbody>\n",
       "    <tr>\n",
       "      <th>count</th>\n",
       "      <td>158.000000</td>\n",
       "    </tr>\n",
       "    <tr>\n",
       "      <th>mean</th>\n",
       "      <td>1185.759494</td>\n",
       "    </tr>\n",
       "    <tr>\n",
       "      <th>std</th>\n",
       "      <td>1155.916993</td>\n",
       "    </tr>\n",
       "    <tr>\n",
       "      <th>min</th>\n",
       "      <td>1.000000</td>\n",
       "    </tr>\n",
       "    <tr>\n",
       "      <th>25%</th>\n",
       "      <td>429.500000</td>\n",
       "    </tr>\n",
       "    <tr>\n",
       "      <th>50%</th>\n",
       "      <td>885.500000</td>\n",
       "    </tr>\n",
       "    <tr>\n",
       "      <th>75%</th>\n",
       "      <td>1694.500000</td>\n",
       "    </tr>\n",
       "    <tr>\n",
       "      <th>max</th>\n",
       "      <td>8954.000000</td>\n",
       "    </tr>\n",
       "  </tbody>\n",
       "</table>\n",
       "</div>"
      ],
      "text/plain": [
       "                 값\n",
       "count   158.000000\n",
       "mean   1185.759494\n",
       "std    1155.916993\n",
       "min       1.000000\n",
       "25%     429.500000\n",
       "50%     885.500000\n",
       "75%    1694.500000\n",
       "max    8954.000000"
      ]
     },
     "execution_count": 55,
     "metadata": {},
     "output_type": "execute_result"
    }
   ],
   "source": [
    "df_city_counts.describe()"
   ]
  },
  {
   "cell_type": "markdown",
   "id": "4b31d368-c315-4d44-ad05-77fcaeb572b1",
   "metadata": {},
   "source": [
    "###최소, 최대 차이: 8953 (매우 큼)###"
   ]
  },
  {
   "cell_type": "code",
   "execution_count": 56,
   "id": "2bfe2e01-ea04-4670-ad46-e519124f6000",
   "metadata": {},
   "outputs": [
    {
     "data": {
      "image/png": "[encoded data removed]",
      "text/plain": [
       "<Figure size 640x480 with 1 Axes>"
      ]
     },
     "metadata": {},
     "output_type": "display_data"
    }
   ],
   "source": [
    "#boxplot으로 편차 시각화 => 접근성 차이 강조 \n",
    "\n",
    "import seaborn as sns\n",
    "import matplotlib.pyplot as plt\n",
    "\n",
    "sns.boxplot(y=df_city_counts['값'])\n",
    "plt.title('도시별 값 박스플롯')\n",
    "plt.ylabel('값')\n",
    "plt.grid(True)\n",
    "plt.show()"
   ]
  },
  {
   "cell_type": "code",
   "execution_count": 57,
   "id": "b5861e87-3cd0-40b1-999a-84e0f0c1f4d0",
   "metadata": {},
   "outputs": [
    {
     "name": "stdout",
     "output_type": "stream",
     "text": [
      "          도시명     값\n",
      "97      인천광역시  8954\n",
      "93      부산광역시  4386\n",
      "90      대구광역시  4168\n",
      "94      서울특별시  3970\n",
      "96      울산광역시  3822\n",
      "..        ...   ...\n",
      "133  충청남도 금산군     4\n",
      "144  충청남도 청양군     2\n",
      "98   전라남도 강진군     2\n",
      "59   경상남도 진해시     1\n",
      "103  전라남도 담양군     1\n",
      "\n",
      "[158 rows x 2 columns]\n"
     ]
    }
   ],
   "source": [
    "df_sorted = df_city_counts.sort_values(by=\"값\",ascending=False)\n",
    "print(df_sorted)"
   ]
  },
  {
   "cell_type": "code",
   "execution_count": 58,
   "id": "bd5377ab-46b8-4c16-b287-f903fcab1b9a",
   "metadata": {},
   "outputs": [
    {
     "name": "stdout",
     "output_type": "stream",
     "text": [
      "      도시명     값\n",
      "97  인천광역시  8954\n",
      "93  부산광역시  4386\n",
      "90  대구광역시  4168\n",
      "94  서울특별시  3970\n",
      "96  울산광역시  3822 \n",
      "\n",
      "          도시명  값\n",
      "133  충청남도 금산군  4\n",
      "144  충청남도 청양군  2\n",
      "98   전라남도 강진군  2\n",
      "59   경상남도 진해시  1\n",
      "103  전라남도 담양군  1\n"
     ]
    }
   ],
   "source": [
    "print(df_sorted.head(5),'\\n')\n",
    "print(df_sorted.tail(5))"
   ]
  },
  {
   "cell_type": "code",
   "execution_count": 59,
   "id": "1d55dcef-4e4c-4583-bd31-52461aec0843",
   "metadata": {},
   "outputs": [],
   "source": [
    "dh=df_sorted.head()\n",
    "dt=df_sorted.tail()"
   ]
  },
  {
   "cell_type": "code",
   "execution_count": 60,
   "id": "30fbc0ea-026a-4ba1-822e-c9cd0be83993",
   "metadata": {},
   "outputs": [
    {
     "name": "stdout",
     "output_type": "stream",
     "text": [
      "          도시명     값\n",
      "97      인천광역시  8954\n",
      "93      부산광역시  4386\n",
      "90      대구광역시  4168\n",
      "94      서울특별시  3970\n",
      "96      울산광역시  3822\n",
      "133  충청남도 금산군     4\n",
      "144  충청남도 청양군     2\n",
      "98   전라남도 강진군     2\n",
      "59   경상남도 진해시     1\n",
      "103  전라남도 담양군     1\n"
     ]
    }
   ],
   "source": [
    "combined_df = pd.concat([dh, dt])\n",
    "print(combined_df)"
   ]
  },
  {
   "cell_type": "code",
   "execution_count": 70,
   "id": "d67559e4-b270-4b57-936c-6fe3afc3cc51",
   "metadata": {
    "scrolled": true
   },
   "outputs": [
    {
     "data": {
      "image/png": "[encoded data removed]",
      "text/plain": [
       "<Figure size 1500x2000 with 1 Axes>"
      ]
     },
     "metadata": {},
     "output_type": "display_data"
    }
   ],
   "source": [
    "#상위5, 하위5 지역을 그룹핑하여 시각화 => 접근성 차이 강조 \n",
    "\n",
    "#ver.1 하위그룹이 희미하게 보이긴 하지만, 그래프가 너무 길음 \n",
    "\n",
    "\n",
    "import matplotlib.pyplot as plt\n",
    "import seaborn as sns\n",
    "\n",
    "\n",
    "plt.rcParams['font.family'] = 'Malgun Gothic'\n",
    "plt.rcParams['axes.unicode_minus'] = False\n",
    "\n",
    "plt.figure(figsize=(15,20))\n",
    "bs=sns.barplot(x=\"도시명\",y=\"값\", data=combined_df)\n",
    "plt.xticks(rotation=0)\n",
    "\n",
    "\n",
    "plt.title(\"도시별 값 막대그래프\")\n",
    "plt.xlabel(\"도시명\")\n",
    "plt.ylabel(\"버스 정류장 개수\")\n",
    "\n",
    "\n",
    "plt.show()"
   ]
  },
  {
   "cell_type": "code",
   "execution_count": 71,
   "id": "ff2b74e0-135f-4c68-bba4-0696f2df513d",
   "metadata": {},
   "outputs": [
    {
     "data": {
      "image/png": "[encoded data removed]",
      "text/plain": [
       "<Figure size 1500x1000 with 1 Axes>"
      ]
     },
     "metadata": {},
     "output_type": "display_data"
    }
   ],
   "source": [
    "#ver.2 그래프의 크기는 깔끔한데, 하위그룹이 아예 안 보임 \n",
    "\n",
    "\n",
    "plt.rcParams['font.family'] = 'Malgun Gothic'\n",
    "plt.rcParams['axes.unicode_minus'] = False\n",
    "\n",
    "plt.figure(figsize=(15,10))\n",
    "bs=sns.barplot(x=\"도시명\",y=\"값\", data=combined_df)\n",
    "plt.xticks(rotation=0)\n",
    "\n",
    "\n",
    "plt.title(\"도시별 값 막대그래프\")\n",
    "plt.xlabel(\"도시명\")\n",
    "plt.ylabel(\"버스 정류장 개수\")\n",
    "\n",
    "\n",
    "plt.show()"
   ]
  },
  {
   "cell_type": "markdown",
   "id": "1e473115-7f84-41c9-88b6-eaf00de5898a",
   "metadata": {},
   "source": [
    "#insight \n",
    "\n",
    "1. 상위 몇몇 도시가 전체 분포를 지배한다\n",
    "\n",
    "-최대값이 8954로, 평균(1185)의 약 7.5배\n",
    "\n",
    "-데이터 분포가 심하게 왜곡되어 있다 (오른쪽 꼬리 길다)\n",
    "평균(1185) > 중앙값(885.5) → 우측 왜도 (skewed right) 존재\n",
    "\n",
    "\n",
    "=> 상위 몇 도시가 값의 대부분을 차지하고 나머지 도시들은 훨씬 낮은 값을 가짐 → 불균형 심각\n",
    "\n",
    "\n",
    "2. 대다수 도시는 중하위 수준에 몰려 있다\n",
    "75% 지점이 1700 미만 → 전체 도시 중 75%는 값이 1694 이하\n",
    "\n",
    "즉, 값이 2000~9000 사이인 도시는 극히 일부에 불과\n",
    "\n",
    "\n",
    "3. 정책·자원 분배에 있어서 상위 도시와 하위 도시 간 격차 조정 필요\n"
   ]
  },
  {
   "cell_type": "code",
   "execution_count": null,
   "id": "6026b5fd-b6f4-4994-9020-d20a6440cdbc",
   "metadata": {},
   "outputs": [],
   "source": []
  },
  {
   "cell_type": "code",
   "execution_count": null,
   "id": "9bcc75a0-00cd-4b88-b02b-ecf7ba1aa130",
   "metadata": {},
   "outputs": [],
   "source": []
  }
 ],
 "metadata": {
  "kernelspec": {
   "display_name": "Python 3 (ipykernel)",
   "language": "python",
   "name": "python3"
  },
  "language_info": {
   "codemirror_mode": {
    "name": "ipython",
    "version": 3
   },
   "file_extension": ".py",
   "mimetype": "text/x-python",
   "name": "python",
   "nbconvert_exporter": "python",
   "pygments_lexer": "ipython3",
   "version": "3.13.3"
  }
 },
 "nbformat": 4,
 "nbformat_minor": 5
}
